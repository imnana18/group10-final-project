{
 "cells": [
  {
   "cell_type": "code",
   "execution_count": 1,
   "id": "c28ac984",
   "metadata": {},
   "outputs": [],
   "source": [
    "# Import dependencies\n",
    "import pandas as pd\n",
    "import sqlite3\n",
    "import numpy as np\n",
    "from pathlib import Path\n",
    "from sklearn.preprocessing import StandardScaler\n",
    "import seaborn as sns\n",
    "import matplotlib.pyplot as plt\n",
    "import matplotlib.cm as cm  \n",
    "from sklearn.preprocessing import StandardScaler\n",
    "from sklearn.metrics import confusion_matrix, classification_report,accuracy_score,precision_score\n",
    "from sklearn.model_selection import train_test_split,GridSearchCV\n",
    "from imblearn.over_sampling import RandomOverSampler\n",
    "from sklearn.ensemble import RandomForestClassifier\n",
    "from sklearn.ensemble import GradientBoostingClassifier\n",
    "\n",
    "import pickle\n",
    "import warnings\n",
    "from sklearn.pipeline import Pipeline\n",
    "# Ignore all warnings\n",
    "warnings.filterwarnings(\"ignore\")"
   ]
  },
  {
   "cell_type": "code",
   "execution_count": 2,
   "id": "f29277b1",
   "metadata": {},
   "outputs": [],
   "source": [
    "# Connect to the SQLite database\n",
    "conn = sqlite3.connect(\"../Resources/fetal_health_CTG_data.db\")\n",
    "\n",
    "# Query to select all data from the table\n",
    "query = \"SELECT * FROM fetal_health_CTG_data\"\n",
    "\n",
    "# Read data from the database into a DataFrame\n",
    "fetal_df= pd.read_sql_query(query, conn)\n",
    "\n",
    "# Close the connection\n",
    "conn.close()\n",
    "\n"
   ]
  },
  {
   "cell_type": "code",
   "execution_count": 3,
   "id": "5819193e",
   "metadata": {},
   "outputs": [
    {
     "data": {
      "text/html": [
       "<div>\n",
       "<style scoped>\n",
       "    .dataframe tbody tr th:only-of-type {\n",
       "        vertical-align: middle;\n",
       "    }\n",
       "\n",
       "    .dataframe tbody tr th {\n",
       "        vertical-align: top;\n",
       "    }\n",
       "\n",
       "    .dataframe thead th {\n",
       "        text-align: right;\n",
       "    }\n",
       "</style>\n",
       "<table border=\"1\" class=\"dataframe\">\n",
       "  <thead>\n",
       "    <tr style=\"text-align: right;\">\n",
       "      <th></th>\n",
       "      <th>baseline_FHR_bpm</th>\n",
       "      <th>accelerations</th>\n",
       "      <th>fetal_movement</th>\n",
       "      <th>uterine_contractions</th>\n",
       "      <th>light_decelerations</th>\n",
       "      <th>severe_decelerations</th>\n",
       "      <th>prolonged_decelerations</th>\n",
       "      <th>abnorm_ST_Var_Perc</th>\n",
       "      <th>mean_ST_Var</th>\n",
       "      <th>abnorm_LT_Var_Perc</th>\n",
       "      <th>...</th>\n",
       "      <th>FHR_hist_min</th>\n",
       "      <th>FHR_hist_max</th>\n",
       "      <th>FHR_hist_num_peaks</th>\n",
       "      <th>FHR_hist_num_zeroes</th>\n",
       "      <th>FHR_hist_mode</th>\n",
       "      <th>FHR_hist_mean</th>\n",
       "      <th>FHR_hist_median</th>\n",
       "      <th>FHR_hist_variance</th>\n",
       "      <th>FHR_hist_tendency</th>\n",
       "      <th>fetal_health</th>\n",
       "    </tr>\n",
       "  </thead>\n",
       "  <tbody>\n",
       "    <tr>\n",
       "      <th>0</th>\n",
       "      <td>120.0</td>\n",
       "      <td>0.000</td>\n",
       "      <td>0.0</td>\n",
       "      <td>0.000</td>\n",
       "      <td>0.000</td>\n",
       "      <td>0.0</td>\n",
       "      <td>0.0</td>\n",
       "      <td>73.0</td>\n",
       "      <td>0.5</td>\n",
       "      <td>43.0</td>\n",
       "      <td>...</td>\n",
       "      <td>62.0</td>\n",
       "      <td>126.0</td>\n",
       "      <td>2.0</td>\n",
       "      <td>0.0</td>\n",
       "      <td>120.0</td>\n",
       "      <td>137.0</td>\n",
       "      <td>121.0</td>\n",
       "      <td>73.0</td>\n",
       "      <td>1.0</td>\n",
       "      <td>2</td>\n",
       "    </tr>\n",
       "    <tr>\n",
       "      <th>1</th>\n",
       "      <td>132.0</td>\n",
       "      <td>0.006</td>\n",
       "      <td>0.0</td>\n",
       "      <td>0.006</td>\n",
       "      <td>0.003</td>\n",
       "      <td>0.0</td>\n",
       "      <td>0.0</td>\n",
       "      <td>17.0</td>\n",
       "      <td>2.1</td>\n",
       "      <td>0.0</td>\n",
       "      <td>...</td>\n",
       "      <td>68.0</td>\n",
       "      <td>198.0</td>\n",
       "      <td>6.0</td>\n",
       "      <td>1.0</td>\n",
       "      <td>141.0</td>\n",
       "      <td>136.0</td>\n",
       "      <td>140.0</td>\n",
       "      <td>12.0</td>\n",
       "      <td>0.0</td>\n",
       "      <td>1</td>\n",
       "    </tr>\n",
       "    <tr>\n",
       "      <th>2</th>\n",
       "      <td>133.0</td>\n",
       "      <td>0.003</td>\n",
       "      <td>0.0</td>\n",
       "      <td>0.008</td>\n",
       "      <td>0.003</td>\n",
       "      <td>0.0</td>\n",
       "      <td>0.0</td>\n",
       "      <td>16.0</td>\n",
       "      <td>2.1</td>\n",
       "      <td>0.0</td>\n",
       "      <td>...</td>\n",
       "      <td>68.0</td>\n",
       "      <td>198.0</td>\n",
       "      <td>5.0</td>\n",
       "      <td>1.0</td>\n",
       "      <td>141.0</td>\n",
       "      <td>135.0</td>\n",
       "      <td>138.0</td>\n",
       "      <td>13.0</td>\n",
       "      <td>0.0</td>\n",
       "      <td>1</td>\n",
       "    </tr>\n",
       "    <tr>\n",
       "      <th>3</th>\n",
       "      <td>134.0</td>\n",
       "      <td>0.003</td>\n",
       "      <td>0.0</td>\n",
       "      <td>0.008</td>\n",
       "      <td>0.003</td>\n",
       "      <td>0.0</td>\n",
       "      <td>0.0</td>\n",
       "      <td>16.0</td>\n",
       "      <td>2.4</td>\n",
       "      <td>0.0</td>\n",
       "      <td>...</td>\n",
       "      <td>53.0</td>\n",
       "      <td>170.0</td>\n",
       "      <td>11.0</td>\n",
       "      <td>0.0</td>\n",
       "      <td>137.0</td>\n",
       "      <td>134.0</td>\n",
       "      <td>137.0</td>\n",
       "      <td>13.0</td>\n",
       "      <td>1.0</td>\n",
       "      <td>1</td>\n",
       "    </tr>\n",
       "    <tr>\n",
       "      <th>4</th>\n",
       "      <td>132.0</td>\n",
       "      <td>0.007</td>\n",
       "      <td>0.0</td>\n",
       "      <td>0.008</td>\n",
       "      <td>0.000</td>\n",
       "      <td>0.0</td>\n",
       "      <td>0.0</td>\n",
       "      <td>16.0</td>\n",
       "      <td>2.4</td>\n",
       "      <td>0.0</td>\n",
       "      <td>...</td>\n",
       "      <td>53.0</td>\n",
       "      <td>170.0</td>\n",
       "      <td>9.0</td>\n",
       "      <td>0.0</td>\n",
       "      <td>137.0</td>\n",
       "      <td>136.0</td>\n",
       "      <td>138.0</td>\n",
       "      <td>11.0</td>\n",
       "      <td>1.0</td>\n",
       "      <td>1</td>\n",
       "    </tr>\n",
       "  </tbody>\n",
       "</table>\n",
       "<p>5 rows × 22 columns</p>\n",
       "</div>"
      ],
      "text/plain": [
       "   baseline_FHR_bpm  accelerations  fetal_movement  uterine_contractions  \\\n",
       "0             120.0          0.000             0.0                 0.000   \n",
       "1             132.0          0.006             0.0                 0.006   \n",
       "2             133.0          0.003             0.0                 0.008   \n",
       "3             134.0          0.003             0.0                 0.008   \n",
       "4             132.0          0.007             0.0                 0.008   \n",
       "\n",
       "   light_decelerations  severe_decelerations  prolonged_decelerations  \\\n",
       "0                0.000                   0.0                      0.0   \n",
       "1                0.003                   0.0                      0.0   \n",
       "2                0.003                   0.0                      0.0   \n",
       "3                0.003                   0.0                      0.0   \n",
       "4                0.000                   0.0                      0.0   \n",
       "\n",
       "   abnorm_ST_Var_Perc  mean_ST_Var  abnorm_LT_Var_Perc  ...  FHR_hist_min  \\\n",
       "0                73.0          0.5                43.0  ...          62.0   \n",
       "1                17.0          2.1                 0.0  ...          68.0   \n",
       "2                16.0          2.1                 0.0  ...          68.0   \n",
       "3                16.0          2.4                 0.0  ...          53.0   \n",
       "4                16.0          2.4                 0.0  ...          53.0   \n",
       "\n",
       "   FHR_hist_max  FHR_hist_num_peaks  FHR_hist_num_zeroes  FHR_hist_mode  \\\n",
       "0         126.0                 2.0                  0.0          120.0   \n",
       "1         198.0                 6.0                  1.0          141.0   \n",
       "2         198.0                 5.0                  1.0          141.0   \n",
       "3         170.0                11.0                  0.0          137.0   \n",
       "4         170.0                 9.0                  0.0          137.0   \n",
       "\n",
       "   FHR_hist_mean  FHR_hist_median  FHR_hist_variance  FHR_hist_tendency  \\\n",
       "0          137.0            121.0               73.0                1.0   \n",
       "1          136.0            140.0               12.0                0.0   \n",
       "2          135.0            138.0               13.0                0.0   \n",
       "3          134.0            137.0               13.0                1.0   \n",
       "4          136.0            138.0               11.0                1.0   \n",
       "\n",
       "   fetal_health  \n",
       "0             2  \n",
       "1             1  \n",
       "2             1  \n",
       "3             1  \n",
       "4             1  \n",
       "\n",
       "[5 rows x 22 columns]"
      ]
     },
     "execution_count": 3,
     "metadata": {},
     "output_type": "execute_result"
    }
   ],
   "source": [
    "# Display the DataFrame\n",
    "fetal_df.head()"
   ]
  },
  {
   "cell_type": "code",
   "execution_count": 4,
   "id": "cc523750",
   "metadata": {},
   "outputs": [
    {
     "data": {
      "text/plain": [
       "fetal_health\n",
       "1    1655\n",
       "2     295\n",
       "3     176\n",
       "Name: count, dtype: int64"
      ]
     },
     "execution_count": 4,
     "metadata": {},
     "output_type": "execute_result"
    }
   ],
   "source": [
    "#check the value counts of fetal health\n",
    "health_status_ct=fetal_df[\"fetal_health\"].value_counts()\n",
    "health_status_ct"
   ]
  },
  {
   "cell_type": "code",
   "execution_count": 5,
   "id": "21e0a89a",
   "metadata": {},
   "outputs": [],
   "source": [
    "# Separate the data into labels and features\n",
    "# Separate the y variable, the labels\n",
    "target=fetal_df[\"fetal_health\"]\n",
    "\n",
    "# Separate the X variable, the features\n",
    "data = fetal_df.drop(\"fetal_health\",axis=1)\n",
    "features_df=data.columns"
   ]
  },
  {
   "cell_type": "code",
   "execution_count": 6,
   "id": "c5132baa",
   "metadata": {},
   "outputs": [
    {
     "name": "stdout",
     "output_type": "stream",
     "text": [
      "0       2\n",
      "1       1\n",
      "2       1\n",
      "3       1\n",
      "4       1\n",
      "       ..\n",
      "2121    2\n",
      "2122    2\n",
      "2123    2\n",
      "2124    2\n",
      "2125    1\n",
      "Name: fetal_health, Length: 2126, dtype: int64\n",
      "Index(['baseline_FHR_bpm', 'accelerations', 'fetal_movement',\n",
      "       'uterine_contractions', 'light_decelerations', 'severe_decelerations',\n",
      "       'prolonged_decelerations', 'abnorm_ST_Var_Perc', 'mean_ST_Var',\n",
      "       'abnorm_LT_Var_Perc', 'mean_LT_Var', 'FHR_hist_width', 'FHR_hist_min',\n",
      "       'FHR_hist_max', 'FHR_hist_num_peaks', 'FHR_hist_num_zeroes',\n",
      "       'FHR_hist_mode', 'FHR_hist_mean', 'FHR_hist_median',\n",
      "       'FHR_hist_variance', 'FHR_hist_tendency'],\n",
      "      dtype='object')\n"
     ]
    }
   ],
   "source": [
    "#check the label and features\n",
    "print(target)\n",
    "print(features_df)"
   ]
  },
  {
   "cell_type": "code",
   "execution_count": 7,
   "id": "838fc8f2",
   "metadata": {},
   "outputs": [],
   "source": [
    "# Split the data using train_test_split\n",
    "# Assign a random_state of 1 to the function\n",
    "X_train, X_test, y_train, y_test = train_test_split(data, target, random_state=48)"
   ]
  },
  {
   "cell_type": "code",
   "execution_count": 8,
   "id": "2baedf98",
   "metadata": {},
   "outputs": [
    {
     "data": {
      "text/plain": [
       "fetal_health\n",
       "1    1245\n",
       "2     220\n",
       "3     129\n",
       "Name: count, dtype: int64"
      ]
     },
     "execution_count": 8,
     "metadata": {},
     "output_type": "execute_result"
    }
   ],
   "source": [
    "#value of count of training dataset\n",
    "#X_train.shape\n",
    "train_data=pd.Series(y_train).value_counts()\n",
    "train_data"
   ]
  },
  {
   "cell_type": "code",
   "execution_count": 9,
   "id": "92453194",
   "metadata": {},
   "outputs": [
    {
     "data": {
      "text/plain": [
       "fetal_health\n",
       "1    410\n",
       "2     75\n",
       "3     47\n",
       "Name: count, dtype: int64"
      ]
     },
     "execution_count": 9,
     "metadata": {},
     "output_type": "execute_result"
    }
   ],
   "source": [
    "#value of count of testing dataset\n",
    "#x_test.shape()\n",
    "test_data=pd.Series(y_test).value_counts()\n",
    "test_data"
   ]
  },
  {
   "cell_type": "code",
   "execution_count": 10,
   "id": "9acab21e",
   "metadata": {},
   "outputs": [],
   "source": [
    "#  Apply StandardScaler\n",
    "scaler = StandardScaler()\n",
    "X_train_scaled = scaler.fit_transform(X_train)\n",
    "X_test_scaled = scaler.transform(X_test)"
   ]
  },
  {
   "cell_type": "code",
   "execution_count": 11,
   "id": "34c7af30",
   "metadata": {},
   "outputs": [],
   "source": [
    "#instantiate the random_oversampler \n",
    "Sampler = RandomOverSampler(random_state=48)\n",
    "#X_sample, y_sample = Sampler.fit_resample(X_train,y_train)\n",
    "X_sample, y_sample = Sampler.fit_resample(X_train_scaled,y_train)\n",
    "\n",
    "# Fit the original training data to the random_oversampler \n",
    "X_train_ros, X_test_ros, y_train_ros, y_test_ros = train_test_split(X_sample, y_sample, random_state=48)"
   ]
  },
  {
   "cell_type": "code",
   "execution_count": 12,
   "id": "2f2d8500",
   "metadata": {},
   "outputs": [
    {
     "data": {
      "text/plain": [
       "fetal_health\n",
       "1    323\n",
       "2    313\n",
       "3    298\n",
       "Name: count, dtype: int64"
      ]
     },
     "execution_count": 12,
     "metadata": {},
     "output_type": "execute_result"
    }
   ],
   "source": [
    "#value of count of testing dataset after ros\n",
    "#x_test.shape()\n",
    "test_data_ros=pd.Series(y_test_ros).value_counts()\n",
    "test_data_ros"
   ]
  },
  {
   "cell_type": "code",
   "execution_count": 13,
   "id": "ad6d7ef6",
   "metadata": {},
   "outputs": [
    {
     "data": {
      "text/plain": [
       "fetal_health\n",
       "1    922\n",
       "2    932\n",
       "3    947\n",
       "Name: count, dtype: int64"
      ]
     },
     "execution_count": 13,
     "metadata": {},
     "output_type": "execute_result"
    }
   ],
   "source": [
    "#value of count of training dataset after ros\n",
    "#X_train.shape\n",
    "train_data_ros=pd.Series(y_train_ros).value_counts()\n",
    "train_data_ros=train_data_ros.sort_index()\n",
    "train_data_ros"
   ]
  },
  {
   "cell_type": "code",
   "execution_count": 14,
   "id": "c4eaf82a",
   "metadata": {},
   "outputs": [
    {
     "data": {
      "image/png": "[encoded data removed]",
      "text/plain": [
       "<Figure size 700x700 with 1 Axes>"
      ]
     },
     "metadata": {},
     "output_type": "display_data"
    }
   ],
   "source": [
    "#set the labels\n",
    "labels = [\"Normal\", \"Suspect\", \"Pathology\"]\n",
    "\n",
    "# Generate evenly spaced x positions for the bars\n",
    "x = np.arange(len(labels))\n",
    "\n",
    "# Define the width of the bars\n",
    "width = 0.30\n",
    "\n",
    "   \n",
    "fig, ax = plt.subplots(figsize=(7,7)) \n",
    "\n",
    "\n",
    "# Plot the bars for the original data\n",
    "rects1 = ax.bar(x - width/2, train_data, width, label=\"Before ROS\")\n",
    "\n",
    "# Plot the bars for the oversampled data\n",
    "rects2 = ax.bar(x + width/2, train_data_ros, width, label=\"After ROS\")\n",
    "\n",
    "# Add some text for labels, title and custom x-axis tick labels, etc.\n",
    "ax.set_xlabel(\"Health Status\")\n",
    "ax.set_ylabel(\"Counts\")\n",
    "#ax.set_title(\"Training Data Before and After Random Oversampling\")\n",
    "ax.set_xticks(x)\n",
    "ax.set_xticklabels(labels)\n",
    "ax.legend()\n",
    "\n",
    "# Add counts on top of each bar using enumerate\n",
    "for i, rect in enumerate(rects1 + rects2):\n",
    "    height = rect.get_height()\n",
    "    ax.annotate('{}'.format(height),\n",
    "                xy=(rect.get_x() + rect.get_width() / 2, height),\n",
    "                xytext=(0,0.03),  # 3 points vertical offset\n",
    "                textcoords=\"offset points\",\n",
    "                ha='center', va='bottom')\n",
    "\n",
    "\n",
    "\n",
    "# Set the x-axis limits to reduce the spacing between the categories\n",
    "ax.set_xlim(-0.5, len(labels)-0.5)\n",
    "# Display the plot\n",
    "plt.tight_layout()\n",
    "plt.savefig(\"../Images/RF_GBM\")\n",
    "plt.show()"
   ]
  },
  {
   "cell_type": "code",
   "execution_count": 15,
   "id": "425ea4be",
   "metadata": {},
   "outputs": [],
   "source": [
    "\n",
    "\n",
    "# Define the best parameters\n",
    "best_params = {'learning_rate': 0.2, 'max_depth': 5, 'n_estimators': 200}\n",
    "\n",
    "# Create the GBM model with the best parameters\n",
    "gbm_model_final = GradientBoostingClassifier(**best_params, random_state=48)\n"
   ]
  },
  {
   "cell_type": "code",
   "execution_count": 16,
   "id": "c0260b76",
   "metadata": {},
   "outputs": [],
   "source": [
    "# Fit the final GBM model to the training data\n",
    "gbm_model_final.fit(X_train_ros, y_train_ros)\n",
    "\n",
    "# Predict using the final GBM model\n",
    "predictions_gbm_test = gbm_model_final.predict(X_test_ros)\n"
   ]
  },
  {
   "cell_type": "code",
   "execution_count": 17,
   "id": "abdb8ac9",
   "metadata": {},
   "outputs": [
    {
     "name": "stdout",
     "output_type": "stream",
     "text": [
      "Training Accuracy: 0.9996429846483399\n"
     ]
    }
   ],
   "source": [
    "# Predict train data using the final GBM model\n",
    "predictions_gbm_train = gbm_model_final.predict(X_train_ros)\n",
    "# Calculate accuracy score for training data\n",
    "accuracy_train = accuracy_score(y_train_ros, predictions_gbm_train)\n",
    "print(\"Training Accuracy:\", accuracy_train)\n",
    "\n"
   ]
  },
  {
   "cell_type": "code",
   "execution_count": 18,
   "id": "2f2f71fe",
   "metadata": {},
   "outputs": [
    {
     "name": "stdout",
     "output_type": "stream",
     "text": [
      "Test Accuracy: 0.9935760171306209\n"
     ]
    }
   ],
   "source": [
    "# Calculate accuracy score for test data\n",
    "accuracy_test = accuracy_score(y_test_ros, predictions_gbm_test)\n",
    "print(\"Test Accuracy:\", accuracy_test)"
   ]
  },
  {
   "cell_type": "code",
   "execution_count": 19,
   "id": "b16cd10f",
   "metadata": {},
   "outputs": [
    {
     "name": "stdout",
     "output_type": "stream",
     "text": [
      "Confusion Matrix:\n",
      "Gradient Boosting  Machine Classifier\n"
     ]
    },
    {
     "data": {
      "text/html": [
       "<div>\n",
       "<style scoped>\n",
       "    .dataframe tbody tr th:only-of-type {\n",
       "        vertical-align: middle;\n",
       "    }\n",
       "\n",
       "    .dataframe tbody tr th {\n",
       "        vertical-align: top;\n",
       "    }\n",
       "\n",
       "    .dataframe thead th {\n",
       "        text-align: right;\n",
       "    }\n",
       "</style>\n",
       "<table border=\"1\" class=\"dataframe\">\n",
       "  <thead>\n",
       "    <tr style=\"text-align: right;\">\n",
       "      <th></th>\n",
       "      <th>Normal</th>\n",
       "      <th>Suspect</th>\n",
       "      <th>pathology</th>\n",
       "    </tr>\n",
       "  </thead>\n",
       "  <tbody>\n",
       "    <tr>\n",
       "      <th>Normal</th>\n",
       "      <td>317</td>\n",
       "      <td>6</td>\n",
       "      <td>0</td>\n",
       "    </tr>\n",
       "    <tr>\n",
       "      <th>Suspect</th>\n",
       "      <td>0</td>\n",
       "      <td>313</td>\n",
       "      <td>0</td>\n",
       "    </tr>\n",
       "    <tr>\n",
       "      <th>pathology</th>\n",
       "      <td>0</td>\n",
       "      <td>0</td>\n",
       "      <td>298</td>\n",
       "    </tr>\n",
       "  </tbody>\n",
       "</table>\n",
       "</div>"
      ],
      "text/plain": [
       "           Normal  Suspect  pathology\n",
       "Normal        317        6          0\n",
       "Suspect         0      313          0\n",
       "pathology       0        0        298"
      ]
     },
     "execution_count": 19,
     "metadata": {},
     "output_type": "execute_result"
    }
   ],
   "source": [
    "# Generate a confusion matrix\n",
    "cm = confusion_matrix(y_test_ros, predictions_gbm_test)\n",
    "print(\"Confusion Matrix:\")\n",
    "cm_df_gb=pd.DataFrame(cm,index=[\"Normal\",\"Suspect\",\"pathology\"],columns=[\"Normal\",\"Suspect\",\"pathology\"])\n",
    "print(\"Gradient Boosting  Machine Classifier\")\n",
    "\n",
    "cm_df_gb"
   ]
  },
  {
   "cell_type": "code",
   "execution_count": 20,
   "id": "2b467917",
   "metadata": {},
   "outputs": [
    {
     "data": {
      "image/png": "[encoded data removed]",
      "text/plain": [
       "<Figure size 270x270 with 1 Axes>"
      ]
     },
     "metadata": {},
     "output_type": "display_data"
    }
   ],
   "source": [
    "# Set font scale\n",
    "sns.set(font_scale=1.2)\n",
    "\n",
    "# Plot the confusion matrix\n",
    "plt.figure(figsize=(2.7,2.7))\n",
    "sns.heatmap(cm_df_gb, annot=True, fmt=\"d\", cmap=\"Blues\", cbar=False, square=True, linewidths=2, linecolor=\"black\")\n",
    "plt.xlabel(\"Predicted\",fontsize=12)\n",
    "plt.ylabel(\"Actual\",fontsize=12)\n",
    "plt.title(\"Confusion Matrix\",fontsize=12)\n",
    "plt.xticks(rotation=0,fontsize=10)\n",
    "plt.yticks(rotation=0,fontsize=10)\n",
    "# Adjusting layout to prevent cutting off labels\n",
    "#plt.subplots_adjust(left=0.15, right=0.95, top=0.9, bottom=0.25)\n",
    "plt.savefig(\"../Images/matrix\",bbox_inches=\"tight\")\n",
    "plt.show()"
   ]
  },
  {
   "cell_type": "code",
   "execution_count": 21,
   "id": "4a4a36bc",
   "metadata": {},
   "outputs": [
    {
     "name": "stdout",
     "output_type": "stream",
     "text": [
      "GB Classification Report :\n",
      "              precision    recall  f1-score   support\n",
      "\n",
      "           1       1.00      0.98      0.99       323\n",
      "           2       0.98      1.00      0.99       313\n",
      "           3       1.00      1.00      1.00       298\n",
      "\n",
      "    accuracy                           0.99       934\n",
      "   macro avg       0.99      0.99      0.99       934\n",
      "weighted avg       0.99      0.99      0.99       934\n",
      "\n"
     ]
    }
   ],
   "source": [
    "# Generate a classification report\n",
    "print(\"GB Classification Report :\")\n",
    "gb_report=classification_report(y_test_ros, predictions_gbm_test)\n",
    "print(gb_report)"
   ]
  },
  {
   "cell_type": "code",
   "execution_count": 22,
   "id": "adb33fcb",
   "metadata": {},
   "outputs": [
    {
     "name": "stdout",
     "output_type": "stream",
     "text": [
      "Top 10 important features\n"
     ]
    },
    {
     "data": {
      "text/plain": [
       "[(0.276902387649442, 'abnorm_LT_Var_Perc'),\n",
       " (0.2572591064690467, 'abnorm_ST_Var_Perc'),\n",
       " (0.17812365241379596, 'FHR_hist_mean'),\n",
       " (0.07610426225717351, 'accelerations'),\n",
       " (0.03944690543263831, 'prolonged_decelerations'),\n",
       " (0.02854862786339007, 'FHR_hist_median'),\n",
       " (0.024209124014140226, 'FHR_hist_max'),\n",
       " (0.02163389393564462, 'FHR_hist_mode'),\n",
       " (0.019795772649130773, 'mean_ST_Var'),\n",
       " (0.01898059650602199, 'baseline_FHR_bpm')]"
      ]
     },
     "execution_count": 22,
     "metadata": {},
     "output_type": "execute_result"
    }
   ],
   "source": [
    "#sklearn will automatically calculate feature importance\n",
    "importances =gbm_model_final.feature_importances_\n",
    "\n",
    "# We can sort the features by their importance\n",
    "importances_sorted=sorted(zip(gbm_model_final.feature_importances_,data.columns), reverse=True)\n",
    "print(\"Top 10 important features\")\n",
    "importances_sorted[:10]"
   ]
  },
  {
   "cell_type": "code",
   "execution_count": 23,
   "id": "d84ce881",
   "metadata": {},
   "outputs": [
    {
     "data": {
      "image/png": "[encoded data removed]",
      "text/plain": [
       "<Figure size 640x480 with 1 Axes>"
      ]
     },
     "metadata": {},
     "output_type": "display_data"
    }
   ],
   "source": [
    "# Visualize the features by importance\n",
    "importances_df = pd.DataFrame(sorted(zip(gbm_model_final.feature_importances_, data.columns), reverse=True))\n",
    "importances_df.set_index(importances_df[1], inplace=True)\n",
    "importances_df.drop(columns=1, inplace=True)\n",
    "importances_df.rename(columns={0: \"Feature Importances\"}, inplace=True)\n",
    "importances_sorted = importances_df.sort_values(by=\"Feature Importances\")\n",
    "\n",
    "# Selecting only the top 10 important features\n",
    "top_10_importances = importances_sorted.tail(10)\n",
    "\n",
    "# Plotting the top 10 important features\n",
    "top_10_importances.plot(kind=\"barh\",title=\"Top 10 Important Features\", legend=False)\n",
    "plt.xlabel(\" Feature Importances\")\n",
    "plt.ylabel(\"Features\")\n",
    "# Adding grid lines\n",
    "plt.grid(True, axis=\"x\", linestyle=\"--\", linewidth=1.5)\n",
    "plt.savefig(\"../Images/GBM\",bbox_inches=\"tight\")\n",
    "plt.show()"
   ]
  },
  {
   "cell_type": "code",
   "execution_count": 24,
   "id": "04cbec6f",
   "metadata": {},
   "outputs": [],
   "source": [
    "# Or for gradient boosting model\n",
    "with open('gbm_model_final.pkl', 'wb') as file:\n",
    "     pickle.dump(gbm_model_final, file)\n"
   ]
  },
  {
   "cell_type": "code",
   "execution_count": null,
   "id": "31abfe01",
   "metadata": {},
   "outputs": [],
   "source": []
  },
  {
   "cell_type": "code",
   "execution_count": null,
   "id": "7674ffb2",
   "metadata": {},
   "outputs": [],
   "source": []
  }
 ],
 "metadata": {
  "kernelspec": {
   "display_name": "Python 3 (ipykernel)",
   "language": "python",
   "name": "python3"
  },
  "language_info": {
   "codemirror_mode": {
    "name": "ipython",
    "version": 3
   },
   "file_extension": ".py",
   "mimetype": "text/x-python",
   "name": "python",
   "nbconvert_exporter": "python",
   "pygments_lexer": "ipython3",
   "version": "3.10.13"
  }
 },
 "nbformat": 4,
 "nbformat_minor": 5
}
