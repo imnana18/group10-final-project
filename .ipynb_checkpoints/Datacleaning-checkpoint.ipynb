{
 "cells": [
  {
   "cell_type": "code",
   "execution_count": 1,
   "id": "ad226b0f",
   "metadata": {},
   "outputs": [],
   "source": [
    "import pandas as pd\n",
    "import sqlite3\n",
    "import csv\n",
    "\n"
   ]
  },
  {
   "cell_type": "code",
   "execution_count": 2,
   "id": "c94a432e",
   "metadata": {},
   "outputs": [],
   "source": [
    "\n",
    "# Connecting to the SQLite database\n",
    "connection = sqlite3.connect(\"Resources/fetal_health_CTG_data.db\")"
   ]
  },
  {
   "cell_type": "code",
   "execution_count": 3,
   "id": "f25ee87b",
   "metadata": {},
   "outputs": [],
   "source": [
    "\n",
    "\n",
    "# Creating a cursor object to execute SQL queries on the database\n",
    "cursor = connection.cursor()"
   ]
  },
  {
   "cell_type": "code",
   "execution_count": 4,
   "id": "5f52493a",
   "metadata": {},
   "outputs": [],
   "source": [
    "\n",
    "\n",
    "\n",
    "# Table Definition\n",
    "create_table = '''CREATE TABLE IF NOT EXISTS fetal_health_CTG_data(\n",
    "                  baseline_value FLOAT,\n",
    "                  accelerations FLOAT,\n",
    "                  fetal_movement FLOAT,\n",
    "                  uterine_contractions FLOAT,\n",
    "                  light_decelerations FLOAT,\n",
    "                  severe_decelerations FLOAT,\n",
    "                  prolongued_decelerations FLOAT,\n",
    "                  abnormal_short_term_variability FLOAT,\n",
    "                  mean_value_of_short_term_variability FLOAT,\n",
    "                  percentage_of_time_with_abnormal_long_term_variability FLOAT,\n",
    "                  mean_value_of_long_term_variability FLOAT,\n",
    "                  histogram_width FLOAT,\n",
    "                  histogram_min FLOAT,\n",
    "                  histogram_max FLOAT,\n",
    "                  histogram_number_of_peaks FLOAT,\n",
    "                  histogram_number_of_zeroes FLOAT,\n",
    "                  histogram_mode FLOAT,\n",
    "                  histogram_mean FLOAT,\n",
    "                  histogram_median FLOAT,\n",
    "                  histogram_variance FLOAT,\n",
    "                  histogram_tendency FLOAT,\n",
    "                  fetal_health INTEGER);'''\n",
    "\n",
    "\n",
    "\n"
   ]
  },
  {
   "cell_type": "code",
   "execution_count": 5,
   "id": "fd9df89e",
   "metadata": {},
   "outputs": [],
   "source": [
    "# Creating the table if it doesn't exist\n",
    "cursor.execute(create_table)\n",
    "\n",
    "# Opening the CSV file\n",
    "with open(\"Resources/clean_fetal_health.csv\", newline=\"\", encoding=\"utf-8\") as file:\n",
    "    # Creating a CSV reader\n",
    "    reader = csv.reader(file)\n",
    "    # Skip the header row\n",
    "    next(reader)\n",
    "    # Iterate over each row in the CSV file and insert data into the table\n",
    "    for row in reader:\n",
    "        # Validate and convert data types as needed\n",
    "        try:\n",
    "            # SQL query to insert data into the table\n",
    "            insert_records = '''INSERT INTO fetal_health_CTG_data \n",
    "                                VALUES (?, ?, ?, ?, ?, ?, ?, ?, ?, ?, ?, ?, ?, ?, ?, ?, ?, ?, ?, ?, ?, ?)'''\n",
    "            # Execute the insert statement\n",
    "            cursor.execute(insert_records, row)\n",
    "        except ValueError as e:\n",
    "            print(f\"Error inserting row: {row}. Invalid data format: {e}\")\n"
   ]
  },
  {
   "cell_type": "code",
   "execution_count": 6,
   "id": "e693e0c7",
   "metadata": {},
   "outputs": [],
   "source": [
    "# Commit the changes\n",
    "connection.commit()\n",
    "\n"
   ]
  },
  {
   "cell_type": "code",
   "execution_count": 7,
   "id": "91deb5df",
   "metadata": {},
   "outputs": [
    {
     "name": "stdout",
     "output_type": "stream",
     "text": [
      "Data has been successfully uploaded to and saved in SQLite database 'fetal_health_data.db'.\n"
     ]
    }
   ],
   "source": [
    "# Close the database connection\n",
    "connection.close()\n",
    "\n",
    "print(\"Data has been successfully uploaded to and saved in SQLite database .\")"
   ]
  },
  {
   "cell_type": "code",
   "execution_count": 10,
   "id": "737f5775",
   "metadata": {},
   "outputs": [
    {
     "name": "stdout",
     "output_type": "stream",
     "text": [
      "Data has been successfully uploaded to and saved in SQLite database 'fetal_health_data.db'.\n"
     ]
    }
   ],
   "source": [
    "import csv\n",
    "import sqlite3\n",
    "\n",
    "# Connecting to the SQLite database\n",
    "connection = sqlite3.connect('fetal_health_data.db')\n",
    "\n",
    "# Creating a cursor object to execute SQL queries on the database\n",
    "cursor = connection.cursor()\n",
    "\n",
    "# Table Definition\n",
    "create_table = '''CREATE TABLE IF NOT EXISTS fetal_health_data(\n",
    "                  baseline_value FLOAT,\n",
    "                  accelerations FLOAT,\n",
    "                  fetal_movement FLOAT,\n",
    "                  uterine_contractions FLOAT,\n",
    "                  light_decelerations FLOAT,\n",
    "                  severe_decelerations FLOAT,\n",
    "                  prolongued_decelerations FLOAT,\n",
    "                  abnormal_short_term_variability FLOAT,\n",
    "                  mean_value_of_short_term_variability FLOAT,\n",
    "                  percentage_of_time_with_abnormal_long_term_variability FLOAT,\n",
    "                  mean_value_of_long_term_variability FLOAT,\n",
    "                  histogram_width FLOAT,\n",
    "                  histogram_min FLOAT,\n",
    "                  histogram_max FLOAT,\n",
    "                  histogram_number_of_peaks FLOAT,\n",
    "                  histogram_number_of_zeroes FLOAT,\n",
    "                  histogram_mode FLOAT,\n",
    "                  histogram_mean FLOAT,\n",
    "                  histogram_median FLOAT,\n",
    "                  histogram_variance FLOAT,\n",
    "                  histogram_tendency FLOAT,\n",
    "                  fetal_health FLOAT);'''\n",
    "\n",
    "# Creating the table if it doesn't exist\n",
    "cursor.execute(create_table)\n",
    "\n",
    "# Opening the CSV file\n",
    "with open(r\"resources/clean_fetal_health.csv\", newline='', encoding='utf-8-sig') as file:\n",
    "    # Creating a CSV reader\n",
    "    reader = csv.reader(file)\n",
    "    # Skip the header row\n",
    "    next(reader)\n",
    "    # Iterate over each row in the CSV file and insert data into the table\n",
    "    for row in reader:\n",
    "        # Validate and convert data types as needed\n",
    "        try:\n",
    "            # Convert empty fields to NULL\n",
    "            row = [None if val == '' else val for val in row]\n",
    "            # SQL query to insert data into the table\n",
    "            insert_records = '''INSERT INTO fetal_health_data \n",
    "                                VALUES (?, ?, ?, ?, ?, ?, ?, ?, ?, ?, ?, ?, ?, ?, ?, ?, ?, ?, ?, ?, ?, ?)'''\n",
    "            # Execute the insert statement\n",
    "            cursor.execute(insert_records, row)\n",
    "        except ValueError as e:\n",
    "            print(f\"Error inserting row: {row}. Invalid data format: {e}\")\n",
    "\n",
    "# Commit the changes\n",
    "connection.commit()\n",
    "\n",
    "# Close the database connection\n",
    "connection.close()\n",
    "\n",
    "print(\"Data has been successfully uploaded to and saved in SQLite database 'fetal_health_data.db'.\")\n"
   ]
  },
  {
   "cell_type": "code",
   "execution_count": null,
   "id": "5176d582",
   "metadata": {},
   "outputs": [],
   "source": []
  }
 ],
 "metadata": {
  "kernelspec": {
   "display_name": "Python 3 (ipykernel)",
   "language": "python",
   "name": "python3"
  },
  "language_info": {
   "codemirror_mode": {
    "name": "ipython",
    "version": 3
   },
   "file_extension": ".py",
   "mimetype": "text/x-python",
   "name": "python",
   "nbconvert_exporter": "python",
   "pygments_lexer": "ipython3",
   "version": "3.10.13"
  }
 },
 "nbformat": 4,
 "nbformat_minor": 5
}
